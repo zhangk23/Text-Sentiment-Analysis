{
 "cells": [
  {
   "cell_type": "markdown",
   "metadata": {},
   "source": [
    "# MIE 1624 Introduction to Data Science and Analytics – Winter 2018\n",
    "## Assignment 1: Text Analytics and Sentiment Analysis\n",
    "#### Kexin Zhang"
   ]
  },
  {
   "cell_type": "markdown",
   "metadata": {
    "collapsed": true
   },
   "source": [
    "This assignment performs text sentiment analysis to study the public opinion on Tweeter about the 2015 Canadian Federal Election and the correlation with the final election results. The assignment is divided into five sections: data cleaning, exploratory analysis, model preparation, model implementation, and discussion. \n",
    "\n",
    "\n",
    "<b> Note: </b> <br></br>\n",
    "1. The three text files used (<i> unclassified_tweets.txt </i>, <i> classified_tweets.txt </i> and <i> stop_words.txt </i>) should be in the same directory as this IPython script.\n",
    "2. <b> Section 4.4 </b> involves cross-validation for different classification methods and will take longer to run, so your patience is very much appriciated!"
   ]
  },
  {
   "cell_type": "markdown",
   "metadata": {},
   "source": [
    "First, import all libraries needed:"
   ]
  },
  {
   "cell_type": "code",
   "execution_count": 1,
   "metadata": {
    "collapsed": true
   },
   "outputs": [],
   "source": [
    "import numpy as np\n",
    "import matplotlib.pyplot as plt\n",
    "%matplotlib inline\n",
    "import pandas as pd\n",
    "import string\n",
    "import re\n",
    "import csv\n",
    "import math\n",
    "\n",
    "from sklearn.feature_extraction.text import CountVectorizer\n",
    "from sklearn.model_selection import train_test_split, learning_curve, cross_val_score\n",
    "from sklearn.linear_model import LogisticRegression\n",
    "from sklearn.linear_model import PassiveAggressiveClassifier\n",
    "from sklearn.linear_model import SGDClassifier\n",
    "from sklearn.naive_bayes import GaussianNB\n",
    "from sklearn.neighbors import KNeighborsClassifier\n",
    "from sklearn import metrics\n",
    "\n",
    "import warnings\n",
    "warnings.filterwarnings('ignore')"
   ]
  },
  {
   "cell_type": "markdown",
   "metadata": {},
   "source": [
    "## 1. Data Cleaning"
   ]
  },
  {
   "cell_type": "markdown",
   "metadata": {},
   "source": [
    "### 1.1 Import file data"
   ]
  },
  {
   "cell_type": "code",
   "execution_count": 2,
   "metadata": {
    "collapsed": true
   },
   "outputs": [],
   "source": [
    "# import unclassified_tweets.txt\n",
    "unclassified_tweets = pd.read_csv('unclassified_tweets.txt', names=['unclassified_text'])\n",
    "# import classified_tweets.txt, ignore first line containing headers\n",
    "classified_tweets = pd.read_csv('classified_tweets.txt', sep = ',', names = ['class', 'id', 'date', 'query', 'user', 'text'],usecols = ['class', 'text'], skiprows = 1)"
   ]
  },
  {
   "cell_type": "markdown",
   "metadata": {},
   "source": [
    "### 1.2 Remove all html tags and attributes"
   ]
  },
  {
   "cell_type": "code",
   "execution_count": 3,
   "metadata": {
    "collapsed": true
   },
   "outputs": [],
   "source": [
    "# strip html tags and attributes: <[^>]+>\n",
    "unclassified_tweets['unclassified_text'] = unclassified_tweets['unclassified_text'].str.replace(r'<[^>]+>', '')\n",
    "classified_tweets['text'] = classified_tweets['text'].str.replace('<[^>]+>', '')"
   ]
  },
  {
   "cell_type": "code",
   "execution_count": 4,
   "metadata": {},
   "outputs": [
    {
     "data": {
      "text/html": [
       "<div>\n",
       "<style>\n",
       "    .dataframe thead tr:only-child th {\n",
       "        text-align: right;\n",
       "    }\n",
       "\n",
       "    .dataframe thead th {\n",
       "        text-align: left;\n",
       "    }\n",
       "\n",
       "    .dataframe tbody tr th {\n",
       "        vertical-align: top;\n",
       "    }\n",
       "</style>\n",
       "<table border=\"1\" class=\"dataframe\">\n",
       "  <thead>\n",
       "    <tr style=\"text-align: right;\">\n",
       "      <th></th>\n",
       "      <th>class</th>\n",
       "      <th>text</th>\n",
       "    </tr>\n",
       "  </thead>\n",
       "  <tbody>\n",
       "    <tr>\n",
       "      <th>0</th>\n",
       "      <td>0</td>\n",
       "      <td>@switchfoot http://twitpic.com/2y1zl - Awww, t...</td>\n",
       "    </tr>\n",
       "    <tr>\n",
       "      <th>1</th>\n",
       "      <td>0</td>\n",
       "      <td>is upset that he can't update his Facebook by ...</td>\n",
       "    </tr>\n",
       "    <tr>\n",
       "      <th>2</th>\n",
       "      <td>0</td>\n",
       "      <td>@Kenichan I dived many times for the ball. Man...</td>\n",
       "    </tr>\n",
       "    <tr>\n",
       "      <th>3</th>\n",
       "      <td>0</td>\n",
       "      <td>my whole body feels itchy and like its on fire</td>\n",
       "    </tr>\n",
       "    <tr>\n",
       "      <th>4</th>\n",
       "      <td>0</td>\n",
       "      <td>@nationwideclass no, it's not behaving at all....</td>\n",
       "    </tr>\n",
       "  </tbody>\n",
       "</table>\n",
       "</div>"
      ],
      "text/plain": [
       "   class                                               text\n",
       "0      0  @switchfoot http://twitpic.com/2y1zl - Awww, t...\n",
       "1      0  is upset that he can't update his Facebook by ...\n",
       "2      0  @Kenichan I dived many times for the ball. Man...\n",
       "3      0    my whole body feels itchy and like its on fire \n",
       "4      0  @nationwideclass no, it's not behaving at all...."
      ]
     },
     "execution_count": 4,
     "metadata": {},
     "output_type": "execute_result"
    }
   ],
   "source": [
    "classified_tweets.head()"
   ]
  },
  {
   "cell_type": "markdown",
   "metadata": {},
   "source": [
    "### 1.3 Replace html character codes with ASCII equivalent"
   ]
  },
  {
   "cell_type": "code",
   "execution_count": 5,
   "metadata": {
    "collapsed": true
   },
   "outputs": [],
   "source": [
    "# create a dictionary to match html character codes to their ASCII equivalent\n",
    "# dictionary key value pairs referenced from https://www.ascii.cl/htmlcodes.htm\n",
    "conversion_dict = {'&lt;': '<', '&quot;': '\\\"','&gt;': '>', '&amp;': '&'}\n",
    "\n",
    "# loop through all html characters and replace with corresponding ASCII values\n",
    "for key, value in conversion_dict.items():\n",
    "    unclassified_tweets['unclassified_text'] = unclassified_tweets['unclassified_text'].str.replace(key, conversion_dict[key])\n",
    "    classified_tweets['text'] = classified_tweets['text'].str.replace(key, conversion_dict[key])"
   ]
  },
  {
   "cell_type": "code",
   "execution_count": 6,
   "metadata": {},
   "outputs": [
    {
     "data": {
      "text/html": [
       "<div>\n",
       "<style>\n",
       "    .dataframe thead tr:only-child th {\n",
       "        text-align: right;\n",
       "    }\n",
       "\n",
       "    .dataframe thead th {\n",
       "        text-align: left;\n",
       "    }\n",
       "\n",
       "    .dataframe tbody tr th {\n",
       "        vertical-align: top;\n",
       "    }\n",
       "</style>\n",
       "<table border=\"1\" class=\"dataframe\">\n",
       "  <thead>\n",
       "    <tr style=\"text-align: right;\">\n",
       "      <th></th>\n",
       "      <th>class</th>\n",
       "      <th>text</th>\n",
       "    </tr>\n",
       "  </thead>\n",
       "  <tbody>\n",
       "    <tr>\n",
       "      <th>0</th>\n",
       "      <td>0</td>\n",
       "      <td>@switchfoot http://twitpic.com/2y1zl - Awww, t...</td>\n",
       "    </tr>\n",
       "    <tr>\n",
       "      <th>1</th>\n",
       "      <td>0</td>\n",
       "      <td>is upset that he can't update his Facebook by ...</td>\n",
       "    </tr>\n",
       "    <tr>\n",
       "      <th>2</th>\n",
       "      <td>0</td>\n",
       "      <td>@Kenichan I dived many times for the ball. Man...</td>\n",
       "    </tr>\n",
       "    <tr>\n",
       "      <th>3</th>\n",
       "      <td>0</td>\n",
       "      <td>my whole body feels itchy and like its on fire</td>\n",
       "    </tr>\n",
       "    <tr>\n",
       "      <th>4</th>\n",
       "      <td>0</td>\n",
       "      <td>@nationwideclass no, it's not behaving at all....</td>\n",
       "    </tr>\n",
       "  </tbody>\n",
       "</table>\n",
       "</div>"
      ],
      "text/plain": [
       "   class                                               text\n",
       "0      0  @switchfoot http://twitpic.com/2y1zl - Awww, t...\n",
       "1      0  is upset that he can't update his Facebook by ...\n",
       "2      0  @Kenichan I dived many times for the ball. Man...\n",
       "3      0    my whole body feels itchy and like its on fire \n",
       "4      0  @nationwideclass no, it's not behaving at all...."
      ]
     },
     "execution_count": 6,
     "metadata": {},
     "output_type": "execute_result"
    }
   ],
   "source": [
    "classified_tweets.head()"
   ]
  },
  {
   "cell_type": "markdown",
   "metadata": {},
   "source": [
    "### 1.4 Remove URLs"
   ]
  },
  {
   "cell_type": "code",
   "execution_count": 7,
   "metadata": {
    "collapsed": true
   },
   "outputs": [],
   "source": [
    "unclassified_tweets['unclassified_text'] = unclassified_tweets['unclassified_text'].str.replace(r'http\\S+', '')\n",
    "classified_tweets['text'] = classified_tweets['text'].str.replace(r'http\\S+', '')"
   ]
  },
  {
   "cell_type": "code",
   "execution_count": 8,
   "metadata": {},
   "outputs": [
    {
     "data": {
      "text/html": [
       "<div>\n",
       "<style>\n",
       "    .dataframe thead tr:only-child th {\n",
       "        text-align: right;\n",
       "    }\n",
       "\n",
       "    .dataframe thead th {\n",
       "        text-align: left;\n",
       "    }\n",
       "\n",
       "    .dataframe tbody tr th {\n",
       "        vertical-align: top;\n",
       "    }\n",
       "</style>\n",
       "<table border=\"1\" class=\"dataframe\">\n",
       "  <thead>\n",
       "    <tr style=\"text-align: right;\">\n",
       "      <th></th>\n",
       "      <th>class</th>\n",
       "      <th>text</th>\n",
       "    </tr>\n",
       "  </thead>\n",
       "  <tbody>\n",
       "    <tr>\n",
       "      <th>0</th>\n",
       "      <td>0</td>\n",
       "      <td>@switchfoot  - Awww, that's a bummer.  You sho...</td>\n",
       "    </tr>\n",
       "    <tr>\n",
       "      <th>1</th>\n",
       "      <td>0</td>\n",
       "      <td>is upset that he can't update his Facebook by ...</td>\n",
       "    </tr>\n",
       "    <tr>\n",
       "      <th>2</th>\n",
       "      <td>0</td>\n",
       "      <td>@Kenichan I dived many times for the ball. Man...</td>\n",
       "    </tr>\n",
       "    <tr>\n",
       "      <th>3</th>\n",
       "      <td>0</td>\n",
       "      <td>my whole body feels itchy and like its on fire</td>\n",
       "    </tr>\n",
       "    <tr>\n",
       "      <th>4</th>\n",
       "      <td>0</td>\n",
       "      <td>@nationwideclass no, it's not behaving at all....</td>\n",
       "    </tr>\n",
       "  </tbody>\n",
       "</table>\n",
       "</div>"
      ],
      "text/plain": [
       "   class                                               text\n",
       "0      0  @switchfoot  - Awww, that's a bummer.  You sho...\n",
       "1      0  is upset that he can't update his Facebook by ...\n",
       "2      0  @Kenichan I dived many times for the ball. Man...\n",
       "3      0    my whole body feels itchy and like its on fire \n",
       "4      0  @nationwideclass no, it's not behaving at all...."
      ]
     },
     "execution_count": 8,
     "metadata": {},
     "output_type": "execute_result"
    }
   ],
   "source": [
    "classified_tweets.head()"
   ]
  },
  {
   "cell_type": "markdown",
   "metadata": {},
   "source": [
    "### 1.5 Change all letters to lower case"
   ]
  },
  {
   "cell_type": "code",
   "execution_count": 9,
   "metadata": {
    "collapsed": true
   },
   "outputs": [],
   "source": [
    "unclassified_tweets['unclassified_text'] = unclassified_tweets['unclassified_text'].str.lower()\n",
    "classified_tweets['text'] = classified_tweets['text'].str.lower()"
   ]
  },
  {
   "cell_type": "code",
   "execution_count": 10,
   "metadata": {},
   "outputs": [
    {
     "data": {
      "text/html": [
       "<div>\n",
       "<style>\n",
       "    .dataframe thead tr:only-child th {\n",
       "        text-align: right;\n",
       "    }\n",
       "\n",
       "    .dataframe thead th {\n",
       "        text-align: left;\n",
       "    }\n",
       "\n",
       "    .dataframe tbody tr th {\n",
       "        vertical-align: top;\n",
       "    }\n",
       "</style>\n",
       "<table border=\"1\" class=\"dataframe\">\n",
       "  <thead>\n",
       "    <tr style=\"text-align: right;\">\n",
       "      <th></th>\n",
       "      <th>class</th>\n",
       "      <th>text</th>\n",
       "    </tr>\n",
       "  </thead>\n",
       "  <tbody>\n",
       "    <tr>\n",
       "      <th>0</th>\n",
       "      <td>0</td>\n",
       "      <td>@switchfoot  - awww, that's a bummer.  you sho...</td>\n",
       "    </tr>\n",
       "    <tr>\n",
       "      <th>1</th>\n",
       "      <td>0</td>\n",
       "      <td>is upset that he can't update his facebook by ...</td>\n",
       "    </tr>\n",
       "    <tr>\n",
       "      <th>2</th>\n",
       "      <td>0</td>\n",
       "      <td>@kenichan i dived many times for the ball. man...</td>\n",
       "    </tr>\n",
       "    <tr>\n",
       "      <th>3</th>\n",
       "      <td>0</td>\n",
       "      <td>my whole body feels itchy and like its on fire</td>\n",
       "    </tr>\n",
       "    <tr>\n",
       "      <th>4</th>\n",
       "      <td>0</td>\n",
       "      <td>@nationwideclass no, it's not behaving at all....</td>\n",
       "    </tr>\n",
       "  </tbody>\n",
       "</table>\n",
       "</div>"
      ],
      "text/plain": [
       "   class                                               text\n",
       "0      0  @switchfoot  - awww, that's a bummer.  you sho...\n",
       "1      0  is upset that he can't update his facebook by ...\n",
       "2      0  @kenichan i dived many times for the ball. man...\n",
       "3      0    my whole body feels itchy and like its on fire \n",
       "4      0  @nationwideclass no, it's not behaving at all...."
      ]
     },
     "execution_count": 10,
     "metadata": {},
     "output_type": "execute_result"
    }
   ],
   "source": [
    "classified_tweets.head()"
   ]
  },
  {
   "cell_type": "markdown",
   "metadata": {},
   "source": [
    "### 1.6 Remove all stop words"
   ]
  },
  {
   "cell_type": "code",
   "execution_count": 11,
   "metadata": {
    "collapsed": true
   },
   "outputs": [],
   "source": [
    "# import list of stop words provided\n",
    "stop_words = pd.read_csv('stop_words.txt', delimiter='\\n', names = ['words'])\n",
    "stop_words_list = []\n",
    "for index, row in stop_words.iterrows():\n",
    "    if row['words'] not in list(string.ascii_lowercase):\n",
    "        stop_words_list.append(row['words'])\n",
    "\n",
    "# remove stop words\n",
    "stop = r'\\b(?:{})\\b'.format('|'.join(stop_words_list))\n",
    "unclassified_tweets['unclassified_text'] = unclassified_tweets['unclassified_text'].str.replace(stop, '')\n",
    "classified_tweets['text'] = classified_tweets['text'].str.replace(stop, '')\n",
    "\n",
    "# remove 't and 's \n",
    "classified_tweets['text'] = classified_tweets['text'].str.replace(r\"'s\", '')\n",
    "classified_tweets['text'] = classified_tweets['text'].str.replace(r\"'t\", '')\n",
    "unclassified_tweets['unclassified_text'] = unclassified_tweets['unclassified_text'].str.replace(r\"'s\", '')\n",
    "unclassified_tweets['unclassified_text'] = unclassified_tweets['unclassified_text'].str.replace(r\"'t\", '')"
   ]
  },
  {
   "cell_type": "code",
   "execution_count": 12,
   "metadata": {},
   "outputs": [
    {
     "data": {
      "text/html": [
       "<div>\n",
       "<style>\n",
       "    .dataframe thead tr:only-child th {\n",
       "        text-align: right;\n",
       "    }\n",
       "\n",
       "    .dataframe thead th {\n",
       "        text-align: left;\n",
       "    }\n",
       "\n",
       "    .dataframe tbody tr th {\n",
       "        vertical-align: top;\n",
       "    }\n",
       "</style>\n",
       "<table border=\"1\" class=\"dataframe\">\n",
       "  <thead>\n",
       "    <tr style=\"text-align: right;\">\n",
       "      <th></th>\n",
       "      <th>class</th>\n",
       "      <th>text</th>\n",
       "    </tr>\n",
       "  </thead>\n",
       "  <tbody>\n",
       "    <tr>\n",
       "      <th>0</th>\n",
       "      <td>0</td>\n",
       "      <td>@switchfoot  - awww,  a bummer.   shoulda  dav...</td>\n",
       "    </tr>\n",
       "    <tr>\n",
       "      <th>1</th>\n",
       "      <td>0</td>\n",
       "      <td>upset    update  facebook  texting ...   cry ...</td>\n",
       "    </tr>\n",
       "    <tr>\n",
       "      <th>2</th>\n",
       "      <td>0</td>\n",
       "      <td>@kenichan i dived  times   ball. managed  save...</td>\n",
       "    </tr>\n",
       "    <tr>\n",
       "      <th>3</th>\n",
       "      <td>0</td>\n",
       "      <td>body feels itchy     fire</td>\n",
       "    </tr>\n",
       "    <tr>\n",
       "      <th>4</th>\n",
       "      <td>0</td>\n",
       "      <td>@nationwideclass ,   behaving  . i'm mad.   i ...</td>\n",
       "    </tr>\n",
       "  </tbody>\n",
       "</table>\n",
       "</div>"
      ],
      "text/plain": [
       "   class                                               text\n",
       "0      0  @switchfoot  - awww,  a bummer.   shoulda  dav...\n",
       "1      0   upset    update  facebook  texting ...   cry ...\n",
       "2      0  @kenichan i dived  times   ball. managed  save...\n",
       "3      0                         body feels itchy     fire \n",
       "4      0  @nationwideclass ,   behaving  . i'm mad.   i ..."
      ]
     },
     "execution_count": 12,
     "metadata": {},
     "output_type": "execute_result"
    }
   ],
   "source": [
    "classified_tweets.head()"
   ]
  },
  {
   "cell_type": "markdown",
   "metadata": {},
   "source": [
    "## 2. Exploratory Analysis"
   ]
  },
  {
   "cell_type": "markdown",
   "metadata": {},
   "source": [
    "This section will determine the political parties that the tweets are associated with by searching relevent keywords. The results for unclassified tweets are presented in figures. Sentiment of classified tweets are also analyzed based on 0 (negative) and 4 (positive) attributes of each tweet."
   ]
  },
  {
   "cell_type": "markdown",
   "metadata": {
    "collapsed": true
   },
   "source": [
    "### 2.1 Visualize Unclassified Data"
   ]
  },
  {
   "cell_type": "markdown",
   "metadata": {},
   "source": [
    "#### 2.1.1 Determine political party of tweets\n",
    "In the 2015 Canadian federal election, the five political parties involved are: <b> Liberal </b> (#liberal), <b> Conservative </b> (#convervative), <b> New Democratic </b> (#ndp), <b> Bloc Québécois </b> (#bloc) and <b> Green </b> (#greenparty). The classification of tweets will be based on these five political parties."
   ]
  },
  {
   "cell_type": "markdown",
   "metadata": {},
   "source": [
    "<b>Step 1</b>: Create keywords corresponding to each political party, these keywords are based on a quick search over twitter tags in unclassified_tweets.txt , note that these keywords can be expanded to improve the accuracy of results:"
   ]
  },
  {
   "cell_type": "code",
   "execution_count": 13,
   "metadata": {
    "collapsed": true
   },
   "outputs": [],
   "source": [
    "liberal_keywords = [r'liberal', r'liberals',r'justin', r'trudeau', r'lpc', r'ptlib']\n",
    "conservative_keywords = [r'conservative', r'tory', r'stephen', r'harper', r'cpc', r'pttory']\n",
    "ndp_keywords = [r'ndp', r'new democratic party', r'new democrat', r'thomas', r'mulcair', r'ptndp']\n",
    "bloc_keywords = [r'bloc',r'quebecois', r'québécois', r'gilles', r'duceppe', r'bq', r'ptbloc']\n",
    "green_keywords = [r'greenparty', r'elizabeth may', r'gpc', r'ptgreen', r'emayin']"
   ]
  },
  {
   "cell_type": "markdown",
   "metadata": {},
   "source": [
    "<b>Step 2</b>: Search the number of occurances of the keywords in tweets and store in the corresponding parties. Note that a tweet is counted as associated with a political party as long as its content matches one or more of the corresponding keywords:"
   ]
  },
  {
   "cell_type": "code",
   "execution_count": 14,
   "metadata": {
    "collapsed": true
   },
   "outputs": [],
   "source": [
    "lib_identifier  = np.zeros(len(unclassified_tweets))\n",
    "for i in range(0, len(liberal_keywords)):\n",
    "    count_lib = unclassified_tweets['unclassified_text'].str.count(liberal_keywords[i]).values\n",
    "    count_lib[np.isnan(count_lib)] = 0\n",
    "    for ii in range(0, len(unclassified_tweets)):\n",
    "        if count_lib[ii] != 0:\n",
    "            lib_identifier[ii] = 1\n",
    "\n",
    "cons_identifier  = np.zeros(len(unclassified_tweets))\n",
    "for j in range(0, len(conservative_keywords)):\n",
    "    count_cons = unclassified_tweets['unclassified_text'].str.count(conservative_keywords[j]).values\n",
    "    count_cons[np.isnan(count_cons)] = 0\n",
    "    for jj in range(0, len(unclassified_tweets)):\n",
    "        if count_cons[jj] != 0:\n",
    "            cons_identifier[jj] = 1\n",
    "\n",
    "ndp_identifier  = np.zeros(len(unclassified_tweets))\n",
    "for k in range(0, len(ndp_keywords)):\n",
    "    count_ndp = unclassified_tweets['unclassified_text'].str.count(ndp_keywords[k]).values\n",
    "    count_ndp[np.isnan(count_ndp)] = 0\n",
    "    for kk in range(0, len(unclassified_tweets)):\n",
    "        if count_ndp[kk] != 0:\n",
    "            ndp_identifier[kk] = 1\n",
    "\n",
    "bloc_identifier  = np.zeros(len(unclassified_tweets))\n",
    "for m in range(0, len(bloc_keywords)):\n",
    "    count_bloc = unclassified_tweets['unclassified_text'].str.count(bloc_keywords[m]).values\n",
    "    count_bloc[np.isnan(count_bloc)] = 0\n",
    "    for mm in range(0, len(unclassified_tweets)):\n",
    "        if count_bloc[mm] != 0:\n",
    "            bloc_identifier[mm] = 1\n",
    "\n",
    "green_identifier  = np.zeros(len(unclassified_tweets))\n",
    "for n in range(0, len(green_keywords)):\n",
    "    count_green = unclassified_tweets['unclassified_text'].str.count(green_keywords[n]).values\n",
    "    count_green[np.isnan(count_green)] = 0\n",
    "    for nn in range(0, len(unclassified_tweets)):\n",
    "        if count_green[nn] != 0:\n",
    "            green_identifier[nn] = 1\n",
    "\n",
    "party_num = np.array([sum(lib_identifier), sum(cons_identifier), sum(ndp_identifier), sum(bloc_identifier), sum(green_identifier)])"
   ]
  },
  {
   "cell_type": "markdown",
   "metadata": {},
   "source": [
    "#### 2.1.2 Plot number of tweets associated with difference political parties"
   ]
  },
  {
   "cell_type": "code",
   "execution_count": 15,
   "metadata": {},
   "outputs": [
    {
     "data": {
      "image/png": "[encoded data removed]",
      "text/plain": [
       "<matplotlib.figure.Figure at 0x1a1b91ba58>"
      ]
     },
     "metadata": {},
     "output_type": "display_data"
    },
    {
     "data": {
      "image/png": "[encoded data removed]",
      "text/plain": [
       "<matplotlib.figure.Figure at 0x1191d3828>"
      ]
     },
     "metadata": {},
     "output_type": "display_data"
    }
   ],
   "source": [
    "party_name = ['Liberal', 'Conservative', 'NDP', 'Bloc Québécois', 'Green']\n",
    "\n",
    "# Plot bar chart to show quantities\n",
    "plt.bar(np.arange(len(party_name)), party_num, color = ['#ffcc00', '#85e085','#66b3ff', '#ff6666','#c266ff'], align = 'center')\n",
    "plt.xticks(np.arange(len(party_name)), party_name, fontsize = 10)\n",
    "plt.ylabel('Tweet Count')\n",
    "plt.title('2015 Canadian Federal Election \\n Political Parties vs. Tweet Count', fontsize = 12, fontweight = 'bold')\n",
    "plt.show()\n",
    "\n",
    "# Plot pie chart to show percentage distribution\n",
    "plt.pie(party_num, labels = party_name, colors = ['#ffcc00', '#85e085','#66b3ff', '#ff6666','#c266ff'], autopct='%1.1f%%', shadow=False, startangle=180, labeldistance=1.05)\n",
    "plt.axis('equal')\n",
    "plt.suptitle('Tweets Political Party Distribution', fontsize = 12, fontweight = 'bold')\n",
    "plt.show() "
   ]
  },
  {
   "cell_type": "markdown",
   "metadata": {},
   "source": [
    "### 2.2 Visualize Classified Data"
   ]
  },
  {
   "cell_type": "markdown",
   "metadata": {},
   "source": [
    "Identify the number of positive and negative tweets in classified data set:"
   ]
  },
  {
   "cell_type": "code",
   "execution_count": 16,
   "metadata": {
    "scrolled": true
   },
   "outputs": [
    {
     "data": {
      "image/png": "[encoded data removed]",
      "text/plain": [
       "<matplotlib.figure.Figure at 0x113af1f98>"
      ]
     },
     "metadata": {},
     "output_type": "display_data"
    }
   ],
   "source": [
    "sentiment_freq = classified_tweets['class'].value_counts()  # count the number of occurances of 0 and 4\n",
    "classified_pos = sentiment_freq[4]  # 4 represents positive sentiment\n",
    "classified_neg = sentiment_freq[0]  # 0 represents negative sentiment\n",
    "sentiment_label = ['Negative \\nTweets \\n%i'% classified_pos, 'Positive \\nTweets \\n%i'% classified_neg]\n",
    "\n",
    "plt.pie([classified_pos, classified_neg], labels = sentiment_label, colors = ['#ff8080', '#9ae59a'], autopct='%1.1f%%', shadow=False, startangle=140)\n",
    "plt.axis('equal')\n",
    "plt.suptitle('Classified Tweets Sentiment Distribution', fontsize = 12, fontweight = 'bold')\n",
    "plt.show() "
   ]
  },
  {
   "cell_type": "markdown",
   "metadata": {},
   "source": [
    "## 3. Model Preparation"
   ]
  },
  {
   "cell_type": "markdown",
   "metadata": {},
   "source": [
    "### 3.1 Split Data into Testing and Training sets"
   ]
  },
  {
   "cell_type": "code",
   "execution_count": 17,
   "metadata": {
    "collapsed": true
   },
   "outputs": [],
   "source": [
    "# split data to 30% test data and 70% training data\n",
    "x_train_raw, x_test_raw, y_train, y_test = train_test_split(classified_tweets['text'], classified_tweets['class'], test_size = 0.30)\n",
    "y_train = y_train.astype('int')"
   ]
  },
  {
   "cell_type": "markdown",
   "metadata": {},
   "source": [
    "### 3.2 Feature Exactraction"
   ]
  },
  {
   "cell_type": "markdown",
   "metadata": {},
   "source": [
    "Feature extraction on classified data:"
   ]
  },
  {
   "cell_type": "code",
   "execution_count": 18,
   "metadata": {
    "collapsed": true
   },
   "outputs": [],
   "source": [
    "# Extract features using bag-of-words counting (referenced from Group 2 presentation material)\n",
    "vectorize = CountVectorizer(analyzer='word', stop_words='english')\n",
    "x_train = vectorize.fit_transform(x_train_raw)\n",
    "# Test data is only transformed since it will only be used for checking accuracy\n",
    "x_test = vectorize.transform(x_test_raw)"
   ]
  },
  {
   "cell_type": "markdown",
   "metadata": {},
   "source": [
    "Feature extraction on unclassified data (convert to unicode first):"
   ]
  },
  {
   "cell_type": "code",
   "execution_count": 19,
   "metadata": {
    "collapsed": true
   },
   "outputs": [],
   "source": [
    "x_unclassified = vectorize.transform(unclassified_tweets['unclassified_text'].values.astype('U'))"
   ]
  },
  {
   "cell_type": "markdown",
   "metadata": {},
   "source": [
    "## 4. Model Implementation"
   ]
  },
  {
   "cell_type": "markdown",
   "metadata": {},
   "source": [
    "For high dimensional sparse data or large samples in general, <i><b> LogisticRegression </b></i> , <i><b> PassiveAggressiveClassifier </b></i> or <i><b> SGDClassifier </b></i> can be much faster to train for comparable predictive accuracy. In this section, all of the above classification methods are explored and their performances are compared.In addition, other classification methods such as <i><b> k-Nearest-Neighbors </b></i> and <i><b> Naive Bayes </b></i> algorithms will also be discussed. However, these two methods are associated with problems such as memory allocation when utilized on large data sets, as in the case of this assignment. Neverthless, method for tuning k-Nearest-Neighbors hyperparameters will still be introduced (code commented out) as a reference for small data sample problems. The method of cross-evaluation is also explored to get a better estimate of model accuracies and used for tuning."
   ]
  },
  {
   "cell_type": "markdown",
   "metadata": {},
   "source": [
    "### 4.1 Instantiate Model"
   ]
  },
  {
   "cell_type": "markdown",
   "metadata": {},
   "source": [
    "Create an instance of different classifer to be used:"
   ]
  },
  {
   "cell_type": "code",
   "execution_count": 20,
   "metadata": {
    "collapsed": true
   },
   "outputs": [],
   "source": [
    "# Create an instance of Logistic Regression classifier \n",
    "model_lr = LogisticRegression()\n",
    "\n",
    "# Create an instance of Passive Aggressive classifier\n",
    "model_pa = PassiveAggressiveClassifier()\n",
    "\n",
    "# Create an instance of SGDclassifier \n",
    "model_sgd = SGDClassifier()\n",
    "\n",
    "# Create an instance of Naive Bayes classifier \n",
    "model_nb = GaussianNB()\n",
    "\n",
    "# Create an instance k-nearest Neighbours classifier\n",
    "model_knn = KNeighborsClassifier(n_neighbors=15)"
   ]
  },
  {
   "cell_type": "markdown",
   "metadata": {},
   "source": [
    "### 4.2 Train Model"
   ]
  },
  {
   "cell_type": "markdown",
   "metadata": {},
   "source": [
    "Train models LogisticRegression , PassiveAggressiveClassifier and SGDClassifier and compute test set predictions:"
   ]
  },
  {
   "cell_type": "code",
   "execution_count": 21,
   "metadata": {
    "collapsed": true
   },
   "outputs": [],
   "source": [
    "model_lr.fit(x_train, y_train)\n",
    "y_pred_lr = model_lr.predict(x_test)\n",
    "\n",
    "model_pa.fit(x_train, y_train)\n",
    "y_pred_pa = model_pa.predict(x_test)\n",
    "\n",
    "model_sgd.fit(x_train, y_train)\n",
    "y_pred_sgd = model_sgd.predict(x_test)"
   ]
  },
  {
   "cell_type": "markdown",
   "metadata": {},
   "source": [
    "When working with large data sets, k-Nearest-Neighbors and Naive Bayes are associated with memory issues and takes very long to train (despite using sparse matrices), therefore following lines are commented out:"
   ]
  },
  {
   "cell_type": "code",
   "execution_count": 22,
   "metadata": {
    "collapsed": true
   },
   "outputs": [],
   "source": [
    "# model_knn.fit(x_train, y_train)\n",
    "# y_pred_knn = model_knn.predict(x_test) \n",
    "\n",
    "# model_nb.fit(x_train.toarray(), y_train)\n",
    "# y_pred_nb = model_nb.predict(x_test.toarray())"
   ]
  },
  {
   "cell_type": "markdown",
   "metadata": {},
   "source": [
    "### 4.3 Model Performances"
   ]
  },
  {
   "cell_type": "markdown",
   "metadata": {},
   "source": [
    "Compare prediction with actual values and calculate accuracies of different classification methods:"
   ]
  },
  {
   "cell_type": "code",
   "execution_count": 23,
   "metadata": {},
   "outputs": [
    {
     "name": "stdout",
     "output_type": "stream",
     "text": [
      "Logistic Regression Accuracy: 73.6316666667 %\n",
      "Passive Agressive Accuracy: 68.28 %\n",
      "SGD Accuracy: 73.4166666667 %\n"
     ]
    }
   ],
   "source": [
    "print('Logistic Regression Accuracy:', metrics.accuracy_score(y_test, y_pred_lr)*100, \"%\")\n",
    "print('Passive Agressive Accuracy:', metrics.accuracy_score(y_test, y_pred_pa)*100, \"%\")\n",
    "print('SGD Accuracy:', metrics.accuracy_score(y_test, y_pred_sgd)*100, \"%\")"
   ]
  },
  {
   "cell_type": "markdown",
   "metadata": {},
   "source": [
    "Due to reasons mentioned in Section 4.2, accuracies for k-Nearest-Neighbors and Naive Bayes classification methods are not calculated due to long training time and large memory required:"
   ]
  },
  {
   "cell_type": "code",
   "execution_count": 24,
   "metadata": {
    "collapsed": true
   },
   "outputs": [],
   "source": [
    "# print('KNN (K=5) Accuracy:', metrics.accuracy_score(y_test, y_pred_knn)*100, \"%\")\n",
    "# print('Accuracy:', metrics.accuracy_score(y_test, y_pred_nb)*100, \"%\")"
   ]
  },
  {
   "cell_type": "markdown",
   "metadata": {},
   "source": [
    "### 4.4 Cross-validation for parameter tuning and model selection"
   ]
  },
  {
   "cell_type": "markdown",
   "metadata": {},
   "source": [
    "Although the previous train/test split method is fast and simple to examine the results of the testing process, it has a high variance estimate since changing which observations in the testing set can significantly change testing accuracy.\n",
    "\n",
    "Alternatively, k-fold cross-validation method can be used to provide a more accurate estimate of out-of-sample accuracy and more efficiency in using data since every observation will be used for both training and testing. \n",
    "\n",
    "The general steps of implementing k-fold cross-validation include:\n",
    "1. Split the dataset into k equal partitions (or \"folds\").\n",
    "2. Use fold 1 as the testing set and the union of the other folds as the training set.\n",
    "3. Calculate testing accuracy.\n",
    "4. Repeat steps two and three k times, using a different fold as the testing set each time.\n",
    "5. Use the average testing accuracy as the estimate of out-of-sample accuracy.\n",
    "\n",
    "For example: <br></br>\n",
    "Validate <b> Logistic Regression </b> classification method using 10-fold cross-validation gives:"
   ]
  },
  {
   "cell_type": "code",
   "execution_count": 25,
   "metadata": {},
   "outputs": [
    {
     "name": "stdout",
     "output_type": "stream",
     "text": [
      "Cross-validation Logistic Regression Score: 72.9595 %\n"
     ]
    }
   ],
   "source": [
    "scores_lr = cross_val_score(model_lr, vectorize.fit_transform(classified_tweets['text']), classified_tweets['class'], cv=10, scoring='accuracy')\n",
    "print('Cross-validation Logistic Regression Score:', 100*scores_lr.mean(), \"%\")"
   ]
  },
  {
   "cell_type": "markdown",
   "metadata": {},
   "source": [
    "Validate <b> Passive Agressive </b> classification method using 10-fold cross-validation gives:"
   ]
  },
  {
   "cell_type": "code",
   "execution_count": 26,
   "metadata": {},
   "outputs": [
    {
     "name": "stdout",
     "output_type": "stream",
     "text": [
      "Cross-validation Passive Agressive Classifier Score: 67.6415 %\n"
     ]
    }
   ],
   "source": [
    "scores_pa = cross_val_score(model_pa, vectorize.fit_transform(classified_tweets['text']), classified_tweets['class'], cv=10, scoring='accuracy')\n",
    "print('Cross-validation Passive Agressive Classifier Score:', 100* scores_pa.mean(), \"%\")"
   ]
  },
  {
   "cell_type": "markdown",
   "metadata": {},
   "source": [
    "Validate <b> SGD </b> classification method using 10-fold cross-validation gives:"
   ]
  },
  {
   "cell_type": "code",
   "execution_count": 27,
   "metadata": {
    "scrolled": true
   },
   "outputs": [
    {
     "name": "stdout",
     "output_type": "stream",
     "text": [
      "Cross-validation SGD Classifier Score: 72.913\n"
     ]
    }
   ],
   "source": [
    "scores_sgd = cross_val_score(model_sgd, vectorize.fit_transform(classified_tweets['text']), classified_tweets['class'], cv=10, scoring='accuracy')\n",
    "print('Cross-validation SGD Classifier Score:', 100*scores_sgd.mean())"
   ]
  },
  {
   "cell_type": "markdown",
   "metadata": {},
   "source": [
    "#### 4.4.1 Tuning SGDClassifier parameters using cross-validation"
   ]
  },
  {
   "cell_type": "markdown",
   "metadata": {},
   "source": [
    "SGDClassifier can be tuned by adjusting number of iterations (<b> n_iter </b> parameter default is 5). Although trying more n_iter values will yield better result, it can take a very long time run. Therefore, only values 2 to 15 are tried to find the best accuracy:"
   ]
  },
  {
   "cell_type": "code",
   "execution_count": 28,
   "metadata": {},
   "outputs": [
    {
     "name": "stdout",
     "output_type": "stream",
     "text": [
      "SGD Classifier Scores (with different n_iter): [0.72675500000000004, 0.727935, 0.72857499999999997, 0.72885999999999995, 0.72975500000000004, 0.72894499999999995, 0.72959499999999999, 0.72966500000000001, 0.7294750000000001, 0.73007500000000003, 0.7297800000000001, 0.73009999999999997, 0.73003499999999999]\n"
     ]
    }
   ],
   "source": [
    "iter_range = list(range(2, 15))\n",
    "sgd_scores = []\n",
    "for iter in iter_range:\n",
    "    sgd = SGDClassifier(n_iter = iter)\n",
    "    scores = cross_val_score(sgd, vectorize.fit_transform(classified_tweets['text']), classified_tweets['class'], cv=10, scoring='accuracy')\n",
    "    sgd_scores.append(scores.mean())\n",
    "print('SGD Classifier Scores (with different n_iter):', sgd_scores)"
   ]
  },
  {
   "cell_type": "code",
   "execution_count": 29,
   "metadata": {},
   "outputs": [
    {
     "data": {
      "image/png": "[encoded data removed]",
      "text/plain": [
       "<matplotlib.figure.Figure at 0x119f03860>"
      ]
     },
     "metadata": {},
     "output_type": "display_data"
    }
   ],
   "source": [
    "plt.plot(iter_range, [x * 100 for x in sgd_scores])\n",
    "plt.xlabel('Value of n_iter for SGD Classifier')\n",
    "plt.ylabel('Cross-Validated Accuracy %')\n",
    "plt.show()"
   ]
  },
  {
   "cell_type": "markdown",
   "metadata": {},
   "source": [
    "The number of iteration that performs the best in range(2, 15) is around 11 to 13 iterations (peak varies from each run, larger range and more time is needed to find the optimal parameter)"
   ]
  },
  {
   "cell_type": "markdown",
   "metadata": {},
   "source": [
    "### 4.5 Use Model for Sentiment Analysis using Logistic Regression"
   ]
  },
  {
   "cell_type": "markdown",
   "metadata": {},
   "source": [
    "Since logistic regression classification model yielded the highest accuracy in Section 4.3, logistic regression model will be used to predict unclassified data sentiment:"
   ]
  },
  {
   "cell_type": "code",
   "execution_count": 30,
   "metadata": {
    "collapsed": true
   },
   "outputs": [],
   "source": [
    "unclassified_predicted = model_lr.predict(x_unclassified)\n",
    "\n",
    "# Find frequencies of 0s and 4s in predicted results\n",
    "unclassified_freq = np.unique(unclassified_predicted, return_counts = True)\n",
    "\n",
    "# Number of 0s represents the number of positive tweets, number of 4s represents\n",
    "# the numer of negative tweets\n",
    "unclassified_pos = unclassified_freq[1][1]\n",
    "unclassified_neg = unclassified_freq[1][0]"
   ]
  },
  {
   "cell_type": "markdown",
   "metadata": {},
   "source": [
    "Present unclassified tweets sentiment breakdown in pandas dataframe:"
   ]
  },
  {
   "cell_type": "code",
   "execution_count": 31,
   "metadata": {},
   "outputs": [
    {
     "data": {
      "text/html": [
       "<div>\n",
       "<style>\n",
       "    .dataframe thead tr:only-child th {\n",
       "        text-align: right;\n",
       "    }\n",
       "\n",
       "    .dataframe thead th {\n",
       "        text-align: left;\n",
       "    }\n",
       "\n",
       "    .dataframe tbody tr th {\n",
       "        vertical-align: top;\n",
       "    }\n",
       "</style>\n",
       "<table border=\"1\" class=\"dataframe\">\n",
       "  <thead>\n",
       "    <tr style=\"text-align: right;\">\n",
       "      <th></th>\n",
       "      <th>Positive Sentiment</th>\n",
       "      <th>Negative Sentiment</th>\n",
       "      <th>Total</th>\n",
       "    </tr>\n",
       "  </thead>\n",
       "  <tbody>\n",
       "    <tr>\n",
       "      <th>Tweets Count</th>\n",
       "      <td>2159</td>\n",
       "      <td>867</td>\n",
       "      <td>3026</td>\n",
       "    </tr>\n",
       "  </tbody>\n",
       "</table>\n",
       "</div>"
      ],
      "text/plain": [
       "              Positive Sentiment  Negative Sentiment  Total\n",
       "Tweets Count                2159                 867   3026"
      ]
     },
     "execution_count": 31,
     "metadata": {},
     "output_type": "execute_result"
    }
   ],
   "source": [
    "unclassified_table = pd.DataFrame(data = np.array([[unclassified_pos, unclassified_neg, unclassified_pos + unclassified_neg ]]), columns = ['Positive Sentiment', 'Negative Sentiment', 'Total'], index = ['Tweets Count'])\n",
    "unclassified_table"
   ]
  },
  {
   "cell_type": "markdown",
   "metadata": {},
   "source": [
    "Present unclassified tweets sentiment breakdown in pie chart:"
   ]
  },
  {
   "cell_type": "code",
   "execution_count": 32,
   "metadata": {},
   "outputs": [
    {
     "data": {
      "image/png": "[encoded data removed]",
      "text/plain": [
       "<matplotlib.figure.Figure at 0x115427470>"
      ]
     },
     "metadata": {},
     "output_type": "display_data"
    }
   ],
   "source": [
    "unclassified_sentiment_label = ['Positive \\nTweets \\n%i'% unclassified_pos, 'Negative \\nTweets \\n%i'% unclassified_neg]\n",
    "\n",
    "plt.pie([unclassified_pos, unclassified_neg], labels = unclassified_sentiment_label, startangle= 90,colors = ['#9ae59a','#ff8080'], autopct='%1.1f%%', shadow=False)\n",
    "plt.axis('equal')\n",
    "plt.suptitle('Unclassified Tweets Sentiment Distribution', fontsize = 12, fontweight = 'bold')\n",
    "plt.show() "
   ]
  },
  {
   "cell_type": "markdown",
   "metadata": {},
   "source": [
    "## 5. Discussion"
   ]
  },
  {
   "cell_type": "markdown",
   "metadata": {},
   "source": [
    "### 5.1 Sentiment Breakdown of Difference Political Parties"
   ]
  },
  {
   "cell_type": "markdown",
   "metadata": {},
   "source": [
    "Calulate the number of positive and negative tweets associated with each political party:"
   ]
  },
  {
   "cell_type": "code",
   "execution_count": 33,
   "metadata": {
    "collapsed": true
   },
   "outputs": [],
   "source": [
    "lib_pos = 0\n",
    "lib_neg = 0\n",
    "for a in range(0, len(unclassified_tweets)):\n",
    "    if lib_identifier[a] == 1 and unclassified_predicted[a] == 4:\n",
    "        lib_pos += 1\n",
    "    if lib_identifier[a] == 1 and unclassified_predicted[a] == 0:\n",
    "        lib_neg += 1\n",
    "        \n",
    "cons_pos = 0\n",
    "cons_neg = 0\n",
    "for b in range(0, len(unclassified_tweets)):\n",
    "    if cons_identifier[b] == 1 and unclassified_predicted[b] == 4:\n",
    "        cons_pos += 1\n",
    "    if cons_identifier[b] == 1 and unclassified_predicted[b] == 0:\n",
    "        cons_neg += 1\n",
    "\n",
    "ndp_pos = 0\n",
    "ndp_neg = 0\n",
    "for c in range(0, len(unclassified_tweets)):\n",
    "    if ndp_identifier[c] == 1 and unclassified_predicted[c] == 4:\n",
    "        ndp_pos += 1\n",
    "    if ndp_identifier[c] == 1 and unclassified_predicted[c] == 0:\n",
    "        ndp_neg += 1\n",
    "\n",
    "bloc_pos = 0\n",
    "bloc_neg = 0\n",
    "for d in range(0, len(unclassified_tweets)):\n",
    "    if bloc_identifier[d] == 1 and unclassified_predicted[d] == 4:\n",
    "        bloc_pos += 1\n",
    "\n",
    "    if bloc_identifier[d] == 1 and unclassified_predicted[d] == 0:\n",
    "        bloc_neg += 1\n",
    "\n",
    "green_pos = 0\n",
    "green_neg = 0\n",
    "for e in range(0, len(unclassified_tweets)):\n",
    "    if green_identifier[e] == 1 and unclassified_predicted[e] == 4:\n",
    "        green_pos += 1\n",
    "\n",
    "    if green_identifier[e] == 1 and unclassified_predicted[e] == 0:\n",
    "        green_neg += 1\n",
    "\n",
    "pos = [lib_pos, cons_pos, ndp_pos, bloc_pos, green_pos]\n",
    "neg = [lib_neg, cons_neg, ndp_neg, bloc_neg, green_neg]"
   ]
  },
  {
   "cell_type": "markdown",
   "metadata": {},
   "source": [
    "Present sentiment breakdown of different political parties in pandas dataframe:"
   ]
  },
  {
   "cell_type": "code",
   "execution_count": 34,
   "metadata": {},
   "outputs": [
    {
     "data": {
      "text/html": [
       "<div>\n",
       "<style>\n",
       "    .dataframe thead tr:only-child th {\n",
       "        text-align: right;\n",
       "    }\n",
       "\n",
       "    .dataframe thead th {\n",
       "        text-align: left;\n",
       "    }\n",
       "\n",
       "    .dataframe tbody tr th {\n",
       "        vertical-align: top;\n",
       "    }\n",
       "</style>\n",
       "<table border=\"1\" class=\"dataframe\">\n",
       "  <thead>\n",
       "    <tr style=\"text-align: right;\">\n",
       "      <th></th>\n",
       "      <th>Liberal</th>\n",
       "      <th>Conservative</th>\n",
       "      <th>NDP</th>\n",
       "      <th>Bloc Québécois</th>\n",
       "      <th>Green</th>\n",
       "      <th>Total</th>\n",
       "    </tr>\n",
       "  </thead>\n",
       "  <tbody>\n",
       "    <tr>\n",
       "      <th>Positive Tweets Count</th>\n",
       "      <td>455</td>\n",
       "      <td>390</td>\n",
       "      <td>320</td>\n",
       "      <td>24</td>\n",
       "      <td>15</td>\n",
       "      <td>1204</td>\n",
       "    </tr>\n",
       "    <tr>\n",
       "      <th>Negative Tweets Count</th>\n",
       "      <td>236</td>\n",
       "      <td>324</td>\n",
       "      <td>151</td>\n",
       "      <td>8</td>\n",
       "      <td>8</td>\n",
       "      <td>727</td>\n",
       "    </tr>\n",
       "  </tbody>\n",
       "</table>\n",
       "</div>"
      ],
      "text/plain": [
       "                       Liberal  Conservative  NDP  Bloc Québécois  Green  \\\n",
       "Positive Tweets Count      455           390  320              24     15   \n",
       "Negative Tweets Count      236           324  151               8      8   \n",
       "\n",
       "                       Total  \n",
       "Positive Tweets Count   1204  \n",
       "Negative Tweets Count    727  "
      ]
     },
     "execution_count": 34,
     "metadata": {},
     "output_type": "execute_result"
    }
   ],
   "source": [
    "pos_new = pos + [sum(pos)]\n",
    "neg_new = neg + [sum(neg)]\n",
    "\n",
    "unclassified_table = pd.DataFrame(data = [pos_new, neg_new], columns = party_name + ['Total'], index = ['Positive Tweets Count', 'Negative Tweets Count'])\n",
    "unclassified_table"
   ]
  },
  {
   "cell_type": "markdown",
   "metadata": {},
   "source": [
    "Present sentiment breakdown of different political parties in bar chart:"
   ]
  },
  {
   "cell_type": "code",
   "execution_count": 35,
   "metadata": {},
   "outputs": [
    {
     "data": {
      "image/png": "[encoded data removed]",
      "text/plain": [
       "<matplotlib.figure.Figure at 0x119a58588>"
      ]
     },
     "metadata": {},
     "output_type": "display_data"
    }
   ],
   "source": [
    "# Plotting the sentiment distribution for political party.\n",
    "y_pos = np.arange(len(party_name))\n",
    "p1 = plt.bar(y_pos, pos, color = '#9ae59a', align = 'center')\n",
    "p2 = plt.bar(y_pos, neg, color = '#ff8080', align = 'center', bottom = pos)\n",
    "\n",
    "plt.xticks(y_pos, party_name, fontsize = 10)\n",
    "plt.ylabel('Tweet Count')\n",
    "plt.title('2015 Canadian Federal Election \\n Sentiment Breakdown of Difference Political Parties', fontsize = 14, fontweight = 'bold', y = 1.05)\n",
    "plt.legend((p2[0], p1[0]), ('Negative Tweets', 'Postive Tweets'))\n",
    "plt.show()"
   ]
  },
  {
   "cell_type": "markdown",
   "metadata": {},
   "source": [
    "### 5.2 Sentiment Analysis and Election Results"
   ]
  },
  {
   "cell_type": "markdown",
   "metadata": {
    "collapsed": true
   },
   "source": [
    "According to Wikipedia documentation (https://en.wikipedia.org/wiki/Canadian_federal_election,_2015), the 2015 Canadian Federal Election vote results are: <br></br>\n",
    "<b> Liberal </b>: 39.5% <br></br>\n",
    "<b> Conservative </b>: 31.9% <br></br>\n",
    "<b> NDP </b>: 19.7% <br></br>\n",
    "<b> Bloc Québécois </b>: 4.7% <br></br>\n",
    "<b> Green </b>: 3.4% <br></br>\n",
    "Plot is created to study the relationship between tweets sentiment and the election results. The election votes are positively correlated with the number of positive tweets each party receives."
   ]
  },
  {
   "cell_type": "code",
   "execution_count": 36,
   "metadata": {},
   "outputs": [
    {
     "data": {
      "image/png": "[encoded data removed]",
      "text/plain": [
       "<matplotlib.figure.Figure at 0x118ceccf8>"
      ]
     },
     "metadata": {},
     "output_type": "display_data"
    }
   ],
   "source": [
    "pos_percentage = [lib_pos/pos_new[5], cons_pos/pos_new[5], ndp_pos/pos_new[5], bloc_pos/pos_new[5], green_pos/pos_new[5]]\n",
    "pos_percentage = [x * 100 for x in pos_percentage]\n",
    "\n",
    "total_percentage = [party_num[0], party_num[1], party_num[2], party_num[3], party_num[4]]\n",
    "total_percentage = [x * 100 / len(unclassified_tweets) for x in total_percentage]\n",
    "\n",
    "vote_percentage = [39.5, 31.9, 19.7, 4.7, 3.4]\n",
    "\n",
    "pt1 = plt.bar(y_pos, vote_percentage, 0.2, color='#ff8533')\n",
    "pt2 = plt.bar(y_pos + 0.2, pos_percentage, 0.2, color='#4d79ff')\n",
    "pt3 = plt.bar(y_pos + 0.4, total_percentage, 0.2, color='#b3c6ff')\n",
    "\n",
    "plt.xticks(y_pos + 0.35, party_name, fontsize = 10)\n",
    "plt.ylabel('Percentage, %')\n",
    "plt.title('Correlation between Tweets Sentiment and Election Result', fontsize = 12, fontweight = 'bold')\n",
    "plt.legend((pt1[0], pt2[0], pt3[0]), ('Vote Percentage', 'Positive Tweets Percentage', 'Total Tweets Percentage'))\n",
    "\n",
    "plt.show()"
   ]
  },
  {
   "cell_type": "markdown",
   "metadata": {
    "collapsed": true
   },
   "source": [
    "As shown in the figure above, <b> vote percentage is positively correlated with positive tweets percentage </b>. It is interesting to note that even though the total number of tweets associated with conservative party is more than that of liberal party, conservative party has more negative tweets and less positive tweets compared to liberal party, which also explains the result that iberal won the federal election in 2015."
   ]
  }
 ],
 "metadata": {
  "kernelspec": {
   "display_name": "Python 3",
   "language": "python",
   "name": "python3"
  },
  "language_info": {
   "codemirror_mode": {
    "name": "ipython",
    "version": 3
   },
   "file_extension": ".py",
   "mimetype": "text/x-python",
   "name": "python",
   "nbconvert_exporter": "python",
   "pygments_lexer": "ipython3",
   "version": "3.6.3"
  }
 },
 "nbformat": 4,
 "nbformat_minor": 2
}
